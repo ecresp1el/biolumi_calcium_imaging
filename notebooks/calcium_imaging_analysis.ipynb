{
 "cells": [
  {
   "cell_type": "code",
   "execution_count": 1,
   "metadata": {},
   "outputs": [],
   "source": [
    "import sys\n",
    "import os \n",
    "sys.path.append('..')  #adds the Root Directory to the system path\n",
    "from BL_CalciumAnalysis.image_analysis_methods import ImageAnalysis"
   ]
  },
  {
   "cell_type": "code",
   "execution_count": 2,
   "metadata": {},
   "outputs": [
    {
     "name": "stdout",
     "output_type": "stream",
     "text": [
      "/Users/cresp1el/anaconda3/envs/biolumi_calcium_imaging/bin/python\n"
     ]
    }
   ],
   "source": [
    "print(sys.executable) #print the path of the Python executable being used, which should point to the Python interpreter in your Conda environment."
   ]
  },
  {
   "cell_type": "code",
   "execution_count": 3,
   "metadata": {},
   "outputs": [
    {
     "name": "stdout",
     "output_type": "stream",
     "text": [
      "                       directory_name  \\\n",
      "0      g21_12072023_estim_10hz_na_blk   \n",
      "1      g22_12072023_estim_10hz_na_blk   \n",
      "2      g23_12072023_estim_10hz_na_blk   \n",
      "3    c33_12092023_estim_10hz_1xfz_blk   \n",
      "4  c33_12092023_estim_10hz_1xfz_blk_1   \n",
      "5    c32_12092023_estim_10hz_1xfz_blk   \n",
      "6    c31_12092023_estim_10hz_1xfz_blk   \n",
      "\n",
      "                                      directory_path  \n",
      "0  /Volumes/MannySSD/cablam_imaging/raw_data_for_...  \n",
      "1  /Volumes/MannySSD/cablam_imaging/raw_data_for_...  \n",
      "2  /Volumes/MannySSD/cablam_imaging/raw_data_for_...  \n",
      "3  /Volumes/MannySSD/cablam_imaging/raw_data_for_...  \n",
      "4  /Volumes/MannySSD/cablam_imaging/raw_data_for_...  \n",
      "5  /Volumes/MannySSD/cablam_imaging/raw_data_for_...  \n",
      "6  /Volumes/MannySSD/cablam_imaging/raw_data_for_...  \n"
     ]
    },
    {
     "data": {
      "text/html": [
       "<div>\n",
       "<style scoped>\n",
       "    .dataframe tbody tr th:only-of-type {\n",
       "        vertical-align: middle;\n",
       "    }\n",
       "\n",
       "    .dataframe tbody tr th {\n",
       "        vertical-align: top;\n",
       "    }\n",
       "\n",
       "    .dataframe thead th {\n",
       "        text-align: right;\n",
       "    }\n",
       "</style>\n",
       "<table border=\"1\" class=\"dataframe\">\n",
       "  <thead>\n",
       "    <tr style=\"text-align: right;\">\n",
       "      <th></th>\n",
       "      <th>directory_name</th>\n",
       "      <th>directory_path</th>\n",
       "    </tr>\n",
       "  </thead>\n",
       "  <tbody>\n",
       "    <tr>\n",
       "      <th>0</th>\n",
       "      <td>g21_12072023_estim_10hz_na_blk</td>\n",
       "      <td>/Volumes/MannySSD/cablam_imaging/raw_data_for_...</td>\n",
       "    </tr>\n",
       "    <tr>\n",
       "      <th>1</th>\n",
       "      <td>g22_12072023_estim_10hz_na_blk</td>\n",
       "      <td>/Volumes/MannySSD/cablam_imaging/raw_data_for_...</td>\n",
       "    </tr>\n",
       "    <tr>\n",
       "      <th>2</th>\n",
       "      <td>g23_12072023_estim_10hz_na_blk</td>\n",
       "      <td>/Volumes/MannySSD/cablam_imaging/raw_data_for_...</td>\n",
       "    </tr>\n",
       "    <tr>\n",
       "      <th>3</th>\n",
       "      <td>c33_12092023_estim_10hz_1xfz_blk</td>\n",
       "      <td>/Volumes/MannySSD/cablam_imaging/raw_data_for_...</td>\n",
       "    </tr>\n",
       "    <tr>\n",
       "      <th>4</th>\n",
       "      <td>c33_12092023_estim_10hz_1xfz_blk_1</td>\n",
       "      <td>/Volumes/MannySSD/cablam_imaging/raw_data_for_...</td>\n",
       "    </tr>\n",
       "    <tr>\n",
       "      <th>5</th>\n",
       "      <td>c32_12092023_estim_10hz_1xfz_blk</td>\n",
       "      <td>/Volumes/MannySSD/cablam_imaging/raw_data_for_...</td>\n",
       "    </tr>\n",
       "    <tr>\n",
       "      <th>6</th>\n",
       "      <td>c31_12092023_estim_10hz_1xfz_blk</td>\n",
       "      <td>/Volumes/MannySSD/cablam_imaging/raw_data_for_...</td>\n",
       "    </tr>\n",
       "  </tbody>\n",
       "</table>\n",
       "</div>"
      ],
      "text/plain": [
       "                       directory_name  \\\n",
       "0      g21_12072023_estim_10hz_na_blk   \n",
       "1      g22_12072023_estim_10hz_na_blk   \n",
       "2      g23_12072023_estim_10hz_na_blk   \n",
       "3    c33_12092023_estim_10hz_1xfz_blk   \n",
       "4  c33_12092023_estim_10hz_1xfz_blk_1   \n",
       "5    c32_12092023_estim_10hz_1xfz_blk   \n",
       "6    c31_12092023_estim_10hz_1xfz_blk   \n",
       "\n",
       "                                      directory_path  \n",
       "0  /Volumes/MannySSD/cablam_imaging/raw_data_for_...  \n",
       "1  /Volumes/MannySSD/cablam_imaging/raw_data_for_...  \n",
       "2  /Volumes/MannySSD/cablam_imaging/raw_data_for_...  \n",
       "3  /Volumes/MannySSD/cablam_imaging/raw_data_for_...  \n",
       "4  /Volumes/MannySSD/cablam_imaging/raw_data_for_...  \n",
       "5  /Volumes/MannySSD/cablam_imaging/raw_data_for_...  \n",
       "6  /Volumes/MannySSD/cablam_imaging/raw_data_for_...  "
      ]
     },
     "execution_count": 3,
     "metadata": {},
     "output_type": "execute_result"
    }
   ],
   "source": [
    "project_folder = '/Volumes/MannySSD/cablam_imaging/raw_data_for_analysis' #path to the folder containing the raw data to be analyzed (i.e. the folder containing the folders for each experiment)\n",
    "analysis = ImageAnalysis(project_folder)\n",
    "\n",
    "print(analysis.directory_df)\n",
    "analysis.directory_df\n"
   ]
  },
  {
   "cell_type": "code",
   "execution_count": 4,
   "metadata": {},
   "outputs": [
    {
     "name": "stdout",
     "output_type": "stream",
     "text": [
      "['/Volumes/MannySSD/cablam_imaging/raw_data_for_analysis/g21_12072023_estim_10hz_na_blk/g21_12072023_estim_10hz_na_blk_fluor_combined.tif', '/Volumes/MannySSD/cablam_imaging/raw_data_for_analysis/g21_12072023_estim_10hz_na_blk/g21_12072023_estim_10hz_na_blk_fluor.csv', '/Volumes/MannySSD/cablam_imaging/raw_data_for_analysis/g21_12072023_estim_10hz_na_blk/._g21_12072023_estim_10hz_na_blk_fluor.csv', '/Volumes/MannySSD/cablam_imaging/raw_data_for_analysis/g22_12072023_estim_10hz_na_blk/g22_12072023_estim_10hz_na_blk_fluor_combined.tif', '/Volumes/MannySSD/cablam_imaging/raw_data_for_analysis/g22_12072023_estim_10hz_na_blk/g22_12072023_estim_10hz_na_blk_fluor.csv', '/Volumes/MannySSD/cablam_imaging/raw_data_for_analysis/g23_12072023_estim_10hz_na_blk/g23_12072023_estim_10hz_na_blk.tif', '/Volumes/MannySSD/cablam_imaging/raw_data_for_analysis/g23_12072023_estim_10hz_na_blk/g23_12072023_estim_10hz_na_blk_fluor.csv', '/Volumes/MannySSD/cablam_imaging/raw_data_for_analysis/c33_12092023_estim_10hz_1xfz_blk/c33_12092023_estim_10hz_1xfz_blk_biolumi_X2.tif', '/Volumes/MannySSD/cablam_imaging/raw_data_for_analysis/c33_12092023_estim_10hz_1xfz_blk/c33_12092023_estim_10hz_1xfz_blk_biolumi.tif', '/Volumes/MannySSD/cablam_imaging/raw_data_for_analysis/c33_12092023_estim_10hz_1xfz_blk/c33_12092023_estim_10hz_1xfz_blk_fluor.tif', '/Volumes/MannySSD/cablam_imaging/raw_data_for_analysis/c33_12092023_estim_10hz_1xfz_blk/c33_12092023_estim_10hz_1xfz_blk_biolumi_combined.tif', '/Volumes/MannySSD/cablam_imaging/raw_data_for_analysis/c33_12092023_estim_10hz_1xfz_blk_1/c33_12092023_estim_10hz_1xfz_blk_biolumi_1_combined.tif', '/Volumes/MannySSD/cablam_imaging/raw_data_for_analysis/c33_12092023_estim_10hz_1xfz_blk_1/c33_12092023_estim_10hz_1xfz_blk_biolumi_1_X2.tif', '/Volumes/MannySSD/cablam_imaging/raw_data_for_analysis/c33_12092023_estim_10hz_1xfz_blk_1/c33_12092023_estim_10hz_1xfz_blk_biolumi_1.tif', '/Volumes/MannySSD/cablam_imaging/raw_data_for_analysis/c33_12092023_estim_10hz_1xfz_blk_1/c33_12092023_estim_10hz_1xfz_blk_biolumi.csv', '/Volumes/MannySSD/cablam_imaging/raw_data_for_analysis/c32_12092023_estim_10hz_1xfz_blk/c32_12092023_estim_10hz_1xfz_blk_biolumi.csv', '/Volumes/MannySSD/cablam_imaging/raw_data_for_analysis/c32_12092023_estim_10hz_1xfz_blk/c32_12092023_estim_10hz_1xfz_blk_biolumi_combined.tif', '/Volumes/MannySSD/cablam_imaging/raw_data_for_analysis/c31_12092023_estim_10hz_1xfz_blk/c31_12092023_estim_10hz_1xfz_blk_biolumi.csv', '/Volumes/MannySSD/cablam_imaging/raw_data_for_analysis/c31_12092023_estim_10hz_1xfz_blk/c31_12092023_estim_10hz_1xfz_blk_biolumi_combined.tif']\n",
      "['g21_12072023_estim_10hz_na_blk', 'g22_12072023_estim_10hz_na_blk', 'g23_12072023_estim_10hz_na_blk', 'c33_12092023_estim_10hz_1xfz_blk', 'c33_12092023_estim_10hz_1xfz_blk_1', 'c32_12092023_estim_10hz_1xfz_blk', 'c31_12092023_estim_10hz_1xfz_blk']\n"
     ]
    }
   ],
   "source": [
    "# Since the folders are directly inside the project_folder, you don't need to append any subdirectory name\n",
    "data_files = analysis.list_files('') \n",
    "print(data_files) #print the list of files in the project folder \n",
    "\n",
    "directories = analysis.list_directories()\n",
    "print(directories) #print the list of directories in the project folder "
   ]
  }
 ],
 "metadata": {
  "kernelspec": {
   "display_name": "biolumi_calcium_imaging",
   "language": "python",
   "name": "python3"
  },
  "language_info": {
   "codemirror_mode": {
    "name": "ipython",
    "version": 3
   },
   "file_extension": ".py",
   "mimetype": "text/x-python",
   "name": "python",
   "nbconvert_exporter": "python",
   "pygments_lexer": "ipython3",
   "version": "3.8.18"
  }
 },
 "nbformat": 4,
 "nbformat_minor": 2
}
