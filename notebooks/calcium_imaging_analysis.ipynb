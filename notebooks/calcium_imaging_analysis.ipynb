{
 "cells": [
  {
   "cell_type": "code",
   "execution_count": 1,
   "metadata": {},
   "outputs": [],
   "source": [
    "import sys\n",
    "import os \n",
    "sys.path.append('..')  #adds the Root Directory to the system path\n",
    "from BL_CalciumAnalysis.image_analysis_methods import ImageAnalysis"
   ]
  },
  {
   "cell_type": "code",
   "execution_count": 2,
   "metadata": {},
   "outputs": [
    {
     "name": "stdout",
     "output_type": "stream",
     "text": [
      "Files in directory: ['g21_12072023_estim_10hz_na_blk', 'g22_12072023_estim_10hz_na_blk', 'g23_12072023_estim_10hz_na_blk']\n"
     ]
    }
   ],
   "source": [
    "test_path = '/Volumes/MannySSD/cablam_imaging/raw_data_for_analysis'\n",
    "try:\n",
    "    files = os.listdir(test_path)\n",
    "    print(\"Files in directory:\", files)\n",
    "except Exception as e:\n",
    "    print(\"Error accessing directory:\", e)"
   ]
  },
  {
   "cell_type": "code",
   "execution_count": 6,
   "metadata": {},
   "outputs": [
    {
     "name": "stdout",
     "output_type": "stream",
     "text": [
      "['/Volumes/MannySSD/cablam_imaging/raw_data_for_analysis/g21_12072023_estim_10hz_na_blk/g21_12072023_estim_10hz_na_blk_fluor_combined.tif', '/Volumes/MannySSD/cablam_imaging/raw_data_for_analysis/g21_12072023_estim_10hz_na_blk/g21_12072023_estim_10hz_na_blk_fluor.csv', '/Volumes/MannySSD/cablam_imaging/raw_data_for_analysis/g21_12072023_estim_10hz_na_blk/._g21_12072023_estim_10hz_na_blk_fluor.csv', '/Volumes/MannySSD/cablam_imaging/raw_data_for_analysis/g22_12072023_estim_10hz_na_blk/g22_12072023_estim_10hz_na_blk_fluor_combined.tif', '/Volumes/MannySSD/cablam_imaging/raw_data_for_analysis/g22_12072023_estim_10hz_na_blk/g22_12072023_estim_10hz_na_blk_fluor.csv', '/Volumes/MannySSD/cablam_imaging/raw_data_for_analysis/g23_12072023_estim_10hz_na_blk/g23_12072023_estim_10hz_na_blk.tif', '/Volumes/MannySSD/cablam_imaging/raw_data_for_analysis/g23_12072023_estim_10hz_na_blk/g23_12072023_estim_10hz_na_blk_fluor.csv']\n",
      "['g21_12072023_estim_10hz_na_blk', 'g22_12072023_estim_10hz_na_blk', 'g23_12072023_estim_10hz_na_blk']\n"
     ]
    }
   ],
   "source": [
    "project_folder = '/Volumes/MannySSD/cablam_imaging/raw_data_for_analysis'\n",
    "analysis = ImageAnalysis(project_folder)\n",
    "\n",
    "# Since the folders are directly inside the project_folder, you don't need to append any subdirectory name\n",
    "data_files = analysis.list_files('') \n",
    "print(data_files) #print the list of files in the project folder \n",
    "\n",
    "directories = analysis.list_directories()\n",
    "print(directories) #print the list of directories in the project folder "
   ]
  }
 ],
 "metadata": {
  "kernelspec": {
   "display_name": "biolumi_calcium_imaging",
   "language": "python",
   "name": "python3"
  },
  "language_info": {
   "codemirror_mode": {
    "name": "ipython",
    "version": 3
   },
   "file_extension": ".py",
   "mimetype": "text/x-python",
   "name": "python",
   "nbconvert_exporter": "python",
   "pygments_lexer": "ipython3",
   "version": "3.8.18"
  }
 },
 "nbformat": 4,
 "nbformat_minor": 2
}
