{
 "cells": [
  {
   "cell_type": "markdown",
   "metadata": {},
   "source": [
    "# In Vitro Calcium Imaging Analysis (CSV)\n\nThis notebook reproduces the responsiveness and plotting workflow using the CSV exports that accompany the Nature Methods dataset. The raw imaging, ROI segmentation, and TIFF processing steps have already been performed; here we start from the processed session folders that contain `processed_data/processed_image_analysis_output` sub-directories with calcium traces.\n\n"
   ]
  },
  {
   "cell_type": "code",
   "metadata": {},
   "execution_count": null,
   "outputs": [],
   "source": [
    "\n",
    "from pathlib import Path\n",
    "import sys\n",
    "\n",
    "import matplotlib.pyplot as plt\n",
    "import numpy as np\n",
    "import pandas as pd\n",
    "import seaborn as sns\n",
    "\n",
    "repo_root = Path.cwd().resolve().parent\n",
    "src_dir = repo_root / 'src'\n",
    "if str(src_dir) not in sys.path:\n",
    "    sys.path.insert(0, str(src_dir))\n",
    "\n",
    "from calcium_analysis import (\n",
    "    ImageAnalysis,\n",
    "    SensorDataPlotter,\n",
    "    prepare_responsive_rois,\n",
    "    filter_responsive_rois_by_stimulation_correction,\n",
    "    count_and_list_rois_per_stim,\n",
    "    save_data_to_csv,\n",
    ")\n",
    "\n",
    "sns.set_theme(style='whitegrid', context='talk')\n"
   ]
  },
  {
   "cell_type": "code",
   "metadata": {},
   "execution_count": null,
   "outputs": [],
   "source": [
    "\n",
    "project_folder = repo_root / 'data'\n",
    "project_folder\n"
   ]
  },
  {
   "cell_type": "code",
   "metadata": {},
   "execution_count": null,
   "outputs": [],
   "source": [
    "\n",
    "output_root = repo_root / 'outputs'\n",
    "\n",
    "comparison_directory_path = output_root / 'individual_session_comparisons'\n",
    "boxplot_directory_path = output_root / 'box_plots'\n",
    "boxplotpercent_directory_path = output_root / 'boxplot_percent'\n",
    "cumulative_directory_path = output_root / 'cumulative_distributions'\n",
    "mean_error_lineplots_directory_path = output_root / 'mean_error_deltaf'\n",
    "timeseries_directory_path = output_root / 'time_series'\n",
    "heatmap_directory_path = output_root / 'heatmaps'\n",
    "cablam_heatmap_directory_path = output_root / 'cablam_heatmaps'\n",
    "gcamp_heatmap_directory_path = output_root / 'gcamp_heatmaps'\n",
    "\n",
    "for path in [\n",
    "    comparison_directory_path,\n",
    "    boxplot_directory_path,\n",
    "    boxplotpercent_directory_path,\n",
    "    cumulative_directory_path,\n",
    "    mean_error_lineplots_directory_path,\n",
    "    timeseries_directory_path,\n",
    "    heatmap_directory_path,\n",
    "    cablam_heatmap_directory_path,\n",
    "    gcamp_heatmap_directory_path,\n",
    "]:\n",
    "    path.mkdir(parents=True, exist_ok=True)\n"
   ]
  },
  {
   "cell_type": "markdown",
   "metadata": {},
   "source": [
    "## Configure Analysis Objects\n\nInstantiate the `ImageAnalysis` helper for each sensor type using the precomputed CSV directories.\n\n"
   ]
  },
  {
   "cell_type": "markdown",
   "metadata": {},
   "source": [
    "## Sensor-specific metadata\n\nFilter the expanded directory information by sensor before generating trial-locked calcium signals.\n"
   ]
  },
  {
   "cell_type": "markdown",
   "metadata": {},
   "source": [
    "create the cablam 1x fz class"
   ]
  },
  {
   "cell_type": "code",
   "execution_count": null,
   "metadata": {},
   "outputs": [],
   "source": [
    "### cablam analysis ###\n",
    "analysis_cablam1x = ImageAnalysis(str(project_folder))\n",
    "analysis_cablam1x.expand_directory_df() #expand the directory_df to include the sensor_type, session_id, stimulation_ids, and stimulation_frame_number\n",
    "#filter the directory_df to only include the rows where the sensor_type is 'cablam' and the directory_name contains '1xfz'\n",
    "analysis_cablam1x.directory_df = analysis_cablam1x.directory_df[(analysis_cablam1x.directory_df['sensor_type'] == 'cablam') & (analysis_cablam1x.directory_df['directory_name'].str.contains('1xfz'))]\n",
    "analysis_cablam1x.directory_df\n"
   ]
  },
  {
   "cell_type": "markdown",
   "metadata": {},
   "source": [
    "create the gcamp8 class"
   ]
  },
  {
   "cell_type": "code",
   "execution_count": null,
   "metadata": {},
   "outputs": [],
   "source": [
    "### gcamp8 analysis ###\n",
    "analysis_gcamp8 = ImageAnalysis(str(project_folder))\n",
    "analysis_gcamp8.expand_directory_df() #expand the directory_df to include the sensor_type, session_id, stimulation_ids, and stimulation_frame_number\n",
    "#filter the directory_df to only include the rows where the sensor_type is 'gcamp8'\n",
    "analysis_gcamp8.directory_df = analysis_gcamp8.directory_df[(analysis_gcamp8.directory_df['sensor_type'] == 'gcamp8')]\n",
    "analysis_gcamp8.directory_df\n"
   ]
  },
  {
   "cell_type": "markdown",
   "metadata": {},
   "source": [
    "create the cablam 05x fz class"
   ]
  },
  {
   "cell_type": "code",
   "execution_count": null,
   "metadata": {},
   "outputs": [],
   "source": [
    "### cablam 05x fz analysis ###\n",
    "#filter fpr the 05xFz condition \n",
    "analysis_cablam05x = ImageAnalysis(str(project_folder))\n",
    "analysis_cablam05x.expand_directory_df() #expand the directory_df to include the sensor_type, session_id, stimulation_ids, and stimulation_frame_number\n",
    "#filter the directory_df to only include the rows where the sensor_type is 'cablam' and the directory_name contains '05xfz'\n",
    "analysis_cablam05x.directory_df = analysis_cablam05x.directory_df[(analysis_cablam05x.directory_df['sensor_type'] == 'cablam') & (analysis_cablam05x.directory_df['directory_name'].str.contains('05xfz'))]\n",
    "analysis_cablam05x.directory_df\n"
   ]
  },
  {
   "cell_type": "markdown",
   "metadata": {},
   "source": [
    "### Section 1b.1: you must use corrected_data as False the first run through if this is the first time running the process_all_sessions method"
   ]
  },
  {
   "cell_type": "code",
   "execution_count": null,
   "metadata": {},
   "outputs": [],
   "source": [
    "all_data_gcamp8 = analysis_gcamp8.process_all_sessions(use_corrected_data=False)\n",
    "all_data_cablam1x = analysis_cablam1x.process_all_sessions(use_corrected_data=False)\n",
    "all_data_cablam05x = analysis_cablam05x.process_all_sessions(use_corrected_data=False)\n"
   ]
  },
  {
   "cell_type": "markdown",
   "metadata": {},
   "source": [
    "##### let see what the all_data_gcamp8 looks likes "
   ]
  },
  {
   "cell_type": "code",
   "execution_count": null,
   "metadata": {},
   "outputs": [],
   "source": [
    "for session_id, session_data in all_data_gcamp8.items():\n",
    "    print(f\"Session ID: {session_id}\")\n",
    "    print(f\"Stimulation Frame Numbers: {session_data['stim_frame_numbers']}\")\n",
    "    print(f\"Stimulation IDs: {session_data['stimulation_ids']}\")\n",
    "    for roi, roi_data in session_data['roi_data'].items():\n",
    "        print(f\"ROI: {roi}\")\n",
    "        for key, value in roi_data.items():\n",
    "            print(f\"Stimulation ID, Frame Number tuple: {key}\")\n",
    "            print(f\"Data: {value}\")\n",
    "    print(\"\\n\")\n"
   ]
  },
  {
   "cell_type": "markdown",
   "metadata": {},
   "source": [
    "### Section 1b.2: once you ran process_all_sessions once, you can now implement the median substraction method create a corrected CSV files via the process_biolumi_calcium_signal method "
   ]
  },
  {
   "cell_type": "code",
   "execution_count": null,
   "metadata": {},
   "outputs": [],
   "source": [
    "analysis_cablam1x.process_all_sessions_biolumi() #now create the corrected calcium signals for the cablam1x data and save the csv files\n",
    "analysis_cablam05x.process_all_sessions_biolumi() #now create the corrected calcium signals for the cablam05x data and save the csv files\n"
   ]
  },
  {
   "cell_type": "markdown",
   "metadata": {},
   "source": [
    "### Section 1b.3: now you can create the data needed for plotting and downstream analysis "
   ]
  },
  {
   "cell_type": "code",
   "execution_count": null,
   "metadata": {},
   "outputs": [],
   "source": [
    "all_data_cablam1x = analysis_cablam1x.process_all_sessions(use_corrected_data=True) # reimport the data with the corrected calcium signals if the corrected data is True \n",
    "all_data_cablam1x_session_data = analysis_cablam1x.process_all_sessions_entire_recording(use_corrected_data=True)\n"
   ]
  },
  {
   "cell_type": "code",
   "execution_count": null,
   "metadata": {},
   "outputs": [],
   "source": [
    "all_data_cablam05x = analysis_cablam05x.process_all_sessions(use_corrected_data=True) # reimport the data with the corrected calcium signals if the corrected data is True\n",
    "all_data_cablam05x_session_data = analysis_cablam05x.process_all_sessions_entire_recording(use_corrected_data=True)\n"
   ]
  },
  {
   "cell_type": "code",
   "execution_count": null,
   "metadata": {},
   "outputs": [],
   "source": [
    "## now accoutns for the background correction for the gcamp8 data but still must run these two lines of code to process the data in the first place, must change for redundancy\n",
    "#all_data_gcamp8_session_data = analysis_gcamp8.process_all_sessions_entire_recording(use_corrected_data=False) #always keep tihs false because the gcamp8 data has not been corrected\n",
    "\n",
    "#  session IDs and corresponding ROIs for those sessions to be removed manually\n",
    "sessions = ['1212092023', '1312092023']  # This could be more than one session\n",
    "rois_list = [['ROI_11', 'ROI_12', 'ROI_13'], ['ROI_2']]  # List of ROIs for each session\n",
    "\n",
    "all_data_gcamp8_session_data = analysis_gcamp8.process_all_sessions_entire_recording_gcampbackgroundcorrected(sessions, rois_list, use_corrected_data=False)\n"
   ]
  },
  {
   "cell_type": "code",
   "execution_count": null,
   "metadata": {},
   "outputs": [],
   "source": [
    "#all_data_gcamp8_session_data = analysis_gcamp8.process_all_sessions_entire_recording_gcampbackgroundcorrected(sessions, rois_list, use_corrected_data=True)\n"
   ]
  },
  {
   "cell_type": "code",
   "execution_count": null,
   "metadata": {},
   "outputs": [],
   "source": [
    "## now accoutns for the background correction -- but do not use as it causes NaNs and may be unnecessary for Cablam data\n",
    "\n",
    "#  session IDs and corresponding ROIs for those sessions to be removed manually\n",
    "#sessions_cablam05x = ['2112242023', '2212242023', '2312242023']\n",
    "#rois_list_cablam05x = [['ROI_25'], ['ROI_42'], ['ROI_47']]\n",
    "#all_data_cablam05x_session_data = analysis_cablam05x.process_all_sessions_entire_recording_gcampbackgroundcorrected(sessions_cablam05x, rois_list_cablam05x, use_corrected_data=False)\n",
    "\n",
    "#sessions_cablam1x = ['1112242023', '1212232023','1212242023', '1312242023', '2112232023', '2212232023', '2312232023' ]  # This could be more than one session\n",
    "#rois_list_cablam1x = [['ROI_11'], ['ROI_4'], ['ROI_17'], ['ROI_4'], ['ROI_24'], ['ROI_27'], ['ROI_41']]  # List of ROIs for each session\n",
    "#all_data_cablam1x_session_data = analysis_cablam1x.process_all_sessions_entire_recording_gcampbackgroundcorrected(sessions_cablam1x, rois_list_cablam1x, use_corrected_data=False)\n"
   ]
  },
  {
   "cell_type": "markdown",
   "metadata": {},
   "source": [
    "# Section 1: Calculate responsiveness to generate the dictionary and dfs for each sensor"
   ]
  },
  {
   "cell_type": "markdown",
   "metadata": {},
   "source": [
    "#### Section 1a - Define responsive ROIs first and create necessary variables: the output of calculate_responsiveness are a the data in dictionary or dataframe format which has all the session ID in one place"
   ]
  },
  {
   "cell_type": "code",
   "execution_count": null,
   "metadata": {},
   "outputs": [],
   "source": [
    "responsiveness_data_gcamp8, responsiveness_df_gcamp8 = analysis_gcamp8.calculate_responsiveness(all_data_gcamp8, return_dataframe=True)\n",
    "responsiveness_data_cablam1x, responsiveness_df_cablam1x = analysis_cablam1x.calculate_responsiveness(all_data_cablam1x, return_dataframe=True)\n",
    "respoinsiveness_data_cablam05x, responsiveness_df_cablam05x = analysis_cablam05x.calculate_responsiveness(all_data_cablam05x, return_dataframe=True)\n"
   ]
  },
  {
   "cell_type": "markdown",
   "metadata": {},
   "source": [
    "#### Section 1b.1 - filter data to remove non responive neurons using the dictionary as the input "
   ]
  },
  {
   "cell_type": "code",
   "execution_count": null,
   "metadata": {},
   "outputs": [],
   "source": [
    "filtered_data_gcamp8 = analysis_gcamp8.filter_responsive_rois(all_data_gcamp8, responsiveness_data_gcamp8)\n",
    "filtered_data_cablam1x = analysis_cablam1x.filter_responsive_rois(all_data_cablam1x, responsiveness_data_cablam1x)\n",
    "filtered_data_cablam05x = analysis_cablam05x.filter_responsive_rois(all_data_cablam05x, respoinsiveness_data_cablam05x)\n"
   ]
  },
  {
   "cell_type": "markdown",
   "metadata": {},
   "source": [
    "#### Section 1b.2 - filter data to remove non responive neurons using the dataframe as the input "
   ]
  },
  {
   "cell_type": "code",
   "execution_count": null,
   "metadata": {},
   "outputs": [],
   "source": [
    "cablam_filtered_responsive_rois = analysis_cablam1x.filter_responsive_rois_by_stimulation(all_data_cablam1x_session_data, responsiveness_df_cablam1x)\n",
    "cablam_filtered_responsive_rois05x = analysis_cablam05x.filter_responsive_rois_by_stimulation(all_data_cablam05x_session_data, responsiveness_df_cablam05x)\n"
   ]
  },
  {
   "cell_type": "code",
   "execution_count": null,
   "metadata": {},
   "outputs": [],
   "source": [
    "## standalone helper functions for handling removal of background ROIs and filtering responsive ROIs by stimulation ID\n",
    "\n",
    "def prepare_responsive_rois(session_data, responsiveness_df):\n",
    "    \"\"\"\n",
    "    Identifies valid responsive ROIs for each session, ensuring that only the ROIs still present in the session data\n",
    "    after background correction are included.\n",
    "\n",
    "    Parameters\n",
    "    ----------\n",
    "    session_data : dict\n",
    "        A dictionary where keys are session IDs and values are dataframes containing the calcium signals for each session.\n",
    "        The dataframes should include ROI columns (e.g., 'ROI_1', 'ROI_2', etc.) and any other metadata.\n",
    "    responsiveness_df : pd.DataFrame\n",
    "        A dataframe containing information about responsive ROIs. It must include columns such as 'session_id', 'roi',\n",
    "        'is_responsive', and 'stimulation_id'. This dataframe is used to identify which ROIs are considered responsive\n",
    "        based on stimulation.\n",
    "\n",
    "    Returns\n",
    "    -------\n",
    "    dict\n",
    "        A dictionary where each key is a session ID and the value is a list of valid responsive ROIs for that session.\n",
    "        The valid ROIs are those that are marked as responsive and still exist in the corresponding session data after\n",
    "        correction.\n",
    "\n",
    "    Notes\n",
    "    -----\n",
    "    - The function filters ROIs based on their responsiveness to a specific stimulation (e.g., stimulation_id == 12).\n",
    "    - Only ROIs that are marked as responsive and still exist in the session dataframe after background correction\n",
    "      will be returned.\n",
    "    - This method is designed to handle the situation where some ROIs have been permanently removed due to background\n",
    "      correction in previous steps, and ensures downstream processes only use valid ROIs.\n",
    "\n",
    "    Example\n",
    "    -------\n",
    "    valid_responsive_rois = prepare_responsive_rois(all_data_gcamp8_session_data, responsiveness_df_gcamp8)\n",
    "    \"\"\"\n",
    "    \n",
    "    # Initialize a dictionary to hold only valid responsive ROIs\n",
    "    valid_responsive_rois_by_session = {}\n",
    "\n",
    "    # Filter for responsive ROIs with stimulation_id == 12\n",
    "    responsive_df = responsiveness_df[\n",
    "        (responsiveness_df['is_responsive']) & \n",
    "        (responsiveness_df['stimulation_id'] == 12)\n",
    "    ]\n",
    "    \n",
    "    # Group by session_id to process each session separately\n",
    "    grouped_responsive_df = responsive_df.groupby('session_id')\n",
    "    \n",
    "    for session_id, group in grouped_responsive_df:\n",
    "        # Access the session's dataframe\n",
    "        session_df = session_data.get(session_id)\n",
    "        if session_df is None:\n",
    "            print(f\"Session ID {session_id} not found in session_data.\")\n",
    "            continue\n",
    "        \n",
    "        # Get the unique responsive ROIs\n",
    "        unique_rois = group['roi'].unique()\n",
    "        \n",
    "        # DEBUG: Print the ROIs in responsiveness_df\n",
    "        print(f\"Session {session_id}: Responsive ROIs in responsiveness_df: {unique_rois}\")\n",
    "        \n",
    "        # DEBUG: Print the available ROI columns in session_df\n",
    "        print(f\"Session {session_id}: Available ROI columns in session_df: {session_df.columns}\")\n",
    "        \n",
    "        # Check if the ROIs exist in the session dataframe columns\n",
    "        valid_rois = [roi for roi in unique_rois if roi in session_df.columns]\n",
    "        \n",
    "        if not valid_rois:\n",
    "            print(f\"No valid responsive ROIs found in session {session_id}.\")\n",
    "            continue\n",
    "        \n",
    "        # Store the valid ROIs in a dictionary\n",
    "        valid_responsive_rois_by_session[session_id] = valid_rois\n",
    "    \n",
    "    return valid_responsive_rois_by_session\n",
    "\n",
    "# Example use:\n",
    "valid_responsive_rois = prepare_responsive_rois(all_data_gcamp8_session_data, responsiveness_df_gcamp8)\n",
    "valid_responsive_rois\n",
    "\n",
    "def filter_responsive_rois_by_stimulation_correction(session_data, responsiveness_df, valid_responsive_rois_by_session):\n",
    "    \"\"\"\n",
    "    Filters session data for responsive ROIs corrected by background removal and ensures only valid ROIs are processed.\n",
    "\n",
    "    Parameters\n",
    "    ----------\n",
    "    session_data : dict\n",
    "        Dictionary where keys are session IDs and values are dataframes containing the calcium signals for each session.\n",
    "    responsiveness_df : pd.DataFrame\n",
    "        Dataframe containing information about responsive ROIs, with columns such as 'session_id', 'roi', 'is_responsive', \n",
    "        and 'stimulation_id'.\n",
    "    valid_responsive_rois_by_session : dict\n",
    "        Dictionary where keys are session IDs and values are lists of valid ROIs that still exist after correction.\n",
    "\n",
    "    Returns\n",
    "    -------\n",
    "    dict\n",
    "        A dictionary where each key is a session ID and the value is a dataframe with the filtered responsive ROIs.\n",
    "    \"\"\"\n",
    "    # Initialize a dictionary to hold the filtered dataframes\n",
    "    filtered_data_by_session = {}\n",
    "    \n",
    "    # Filter for responsive ROIs with stimulation_id == 12\n",
    "    responsive_df = responsiveness_df[\n",
    "        (responsiveness_df['is_responsive']) & \n",
    "        (responsiveness_df['stimulation_id'] == 12)\n",
    "    ]\n",
    "    \n",
    "    # Group by session_id to process each session separately\n",
    "    grouped_responsive_df = responsive_df.groupby('session_id')\n",
    "    \n",
    "    for session_id, group in grouped_responsive_df:\n",
    "        # Initialize a list to collect dataframes for this session\n",
    "        session_frames_list = []\n",
    "        \n",
    "        # Get unique ROIs for this session that are responsive\n",
    "        unique_rois = group['roi'].unique()\n",
    "        \n",
    "        # Access the session's dataframe\n",
    "        session_df = session_data.get(session_id)\n",
    "        if session_df is None:\n",
    "            print(f\"Session ID {session_id} not found in session_data.\")\n",
    "            continue\n",
    "        \n",
    "        # Get the valid ROIs from the valid_responsive_rois_by_session dictionary\n",
    "        valid_rois = valid_responsive_rois_by_session.get(session_id, [])\n",
    "        \n",
    "        # Filter the session dataframe for responsive ROIs that are still valid\n",
    "        for roi in unique_rois:\n",
    "            if roi in valid_rois:\n",
    "                # Extract the ROI number and construct the column name\n",
    "                roi_number = re.search(r'\\d+', roi)\n",
    "                if not roi_number:\n",
    "                    print(f\"ROI format is incorrect for {roi}\")\n",
    "                    continue\n",
    "                roi_column_name = f'ROI_{roi_number.group()}'\n",
    "                \n",
    "                if roi_column_name in session_df.columns:\n",
    "                    # Access the entire column for the responsive ROI\n",
    "                    roi_frames_df = session_df[[roi_column_name]].copy()\n",
    "                    \n",
    "                    # Add the ROI frames to the list for this session\n",
    "                    session_frames_list.append(roi_frames_df)\n",
    "                else:\n",
    "                    print(f\"Column {roi_column_name} not found in session dataframe for session_id {session_id}.\")\n",
    "            \n",
    "        # Combine the frames for the session into a single dataframe\n",
    "        if session_frames_list:\n",
    "            combined_frames_df = pd.concat(session_frames_list, axis=1)\n",
    "            # Store the filtered data in the dictionary using the session_id as the key\n",
    "            filtered_data_by_session[session_id] = combined_frames_df\n",
    "\n",
    "    return filtered_data_by_session\n",
    "# Call the new function\n",
    "gcamp8_filtered_responsive_rois = filter_responsive_rois_by_stimulation_correction(all_data_gcamp8_session_data, responsiveness_df_gcamp8, valid_responsive_rois)\n",
    "gcamp8_filtered_responsive_rois\n"
   ]
  },
  {
   "cell_type": "code",
   "execution_count": null,
   "metadata": {},
   "outputs": [],
   "source": [
    "###repeat for the cablam05x data \n",
    "\n",
    "#prepare the responsive rois for the cablam05x data\n",
    "valid_responsive_rois_cablam05x = prepare_responsive_rois(all_data_cablam05x_session_data, responsiveness_df_cablam05x)\n",
    "#call the filter_responsive_rois_by_stimulation_correction function for the cablam05x data\n",
    "cablam_filtered_responsive_rois05x = filter_responsive_rois_by_stimulation_correction(all_data_cablam05x_session_data, responsiveness_df_cablam05x, valid_responsive_rois_cablam05x)\n",
    "\n",
    "## repeat for the cablam1x data\n",
    "valid_responsive_rois_cablam1x = prepare_responsive_rois(all_data_cablam1x_session_data, responsiveness_df_cablam1x)\n",
    "cablam_filtered_responsive_rois = filter_responsive_rois_by_stimulation_correction(all_data_cablam1x_session_data, responsiveness_df_cablam1x, valid_responsive_rois_cablam1x)\n"
   ]
  },
  {
   "cell_type": "markdown",
   "metadata": {},
   "source": [
    "# At this point, you can now use flexible plotting functions/methods"
   ]
  },
  {
   "cell_type": "code",
   "execution_count": null,
   "metadata": {},
   "outputs": [],
   "source": [
    "#plots the time series data for  ROIs for each session\n",
    "analysis_gcamp8.plot_session_time_series(gcamp8_filtered_responsive_rois)\n",
    "analysis_cablam1x.plot_session_time_series(cablam_filtered_responsive_rois)\n",
    "analysis_cablam05x.plot_session_time_series(cablam_filtered_responsive_rois05x)\n"
   ]
  },
  {
   "cell_type": "code",
   "execution_count": null,
   "metadata": {},
   "outputs": [],
   "source": [
    "\n",
    "# Call the new method\n",
    "analysis_gcamp8.compare_sessions_time_series(\n",
    "    session_data_list=[gcamp8_filtered_responsive_rois, cablam_filtered_responsive_rois],\n",
    "    roi_lists=[['ROI_4', 'ROI_14', 'ROI_20'], ['ROI_18', 'ROI_3', 'ROI_14']],\n",
    "    frame_ranges=[(3409, 5000), (3409, 6326)],\n",
    "    session_labels=['1212092023', '2112232023'], \n",
    "    fig_size=(12, 6),\n",
    "    dpi=300,\n",
    "    save_dir=comparison_directory_path,\n",
    "    responsiveness_dfs=[responsiveness_df_gcamp8, responsiveness_df_cablam1x]\n",
    ")\n"
   ]
  },
  {
   "cell_type": "code",
   "execution_count": null,
   "metadata": {},
   "outputs": [],
   "source": [
    "analysis_gcamp8.plot_time_locked_responses(\n",
    "        session_data_list=[responsiveness_df_gcamp8, responsiveness_df_cablam1x],\n",
    "        roi_lists=[['ROI_4', 'ROI_14', 'ROI_20'], ['ROI_18', 'ROI_3', 'ROI_14']],\n",
    "        session_labels=['1212092023', '2112232023'], \n",
    "        stim_ids=[12, 60, 480],\n",
    "        fig_size=(10, 15),\n",
    "        dpi=300,\n",
    "        save_dir=comparison_directory_path\n",
    ")\n"
   ]
  },
  {
   "cell_type": "code",
   "execution_count": null,
   "metadata": {},
   "outputs": [],
   "source": [
    "### plot the time locked responses for the gcamp8, cablam1x, and cablam05x data ###\n",
    "analysis_gcamp8.plot_stim_responsiveness(\n",
    "    df=responsiveness_df_gcamp8,\n",
    "    include='responsive',\n",
    "    y_lim=None,\n",
    "    x_lim=(-10, 100),\n",
    "    mean_color='black',\n",
    "    figsize=(20, 6)\n",
    ")\n",
    "\n",
    "analysis_cablam05x.plot_stim_responsiveness(\n",
    "    df=responsiveness_df_cablam05x,\n",
    "    include='responsive',\n",
    "    y_lim=None,\n",
    "    x_lim=(-10, 100),\n",
    "    mean_color='blue',\n",
    "    figsize=(20, 6)\n",
    ")\n",
    "\n",
    "analysis_cablam1x.plot_stim_responsiveness(\n",
    "    df=responsiveness_df_cablam1x,\n",
    "    include='responsive',\n",
    "    y_lim=None,\n",
    "    x_lim=(-10, 100),\n",
    "    mean_color='red',\n",
    "    figsize=(20, 6)\n",
    ")\n"
   ]
  },
  {
   "cell_type": "code",
   "execution_count": null,
   "metadata": {},
   "outputs": [],
   "source": [
    "## check how many ROIs are being plotted for each session\n",
    "def count_and_list_rois_per_stim(df, stim_ids=None, include='both'):\n",
    "    \"\"\"\n",
    "    Counts and lists the ROIs being plotted for each stimulation condition, optionally filtering by responsiveness.\n",
    "\n",
    "    Parameters\n",
    "    ----------\n",
    "    df : pd.DataFrame\n",
    "        DataFrame containing the responsiveness data.\n",
    "    stim_ids : list, optional\n",
    "        List of stimulation IDs to filter on. If None, all unique IDs in the DataFrame will be used.\n",
    "    include : str, optional\n",
    "        Filter for 'responsive', 'non-responsive', or 'both' units.\n",
    "\n",
    "    Returns\n",
    "    -------\n",
    "    dict\n",
    "        A dictionary where each key is a stimulation ID and the value is a dictionary containing:\n",
    "            - 'num_rois': The number of ROIs plotted for that stimulation.\n",
    "            - 'rois': A list of the ROIs being plotted for that stimulation.\n",
    "    \"\"\"\n",
    "    \n",
    "    # If stim_ids is not provided, get the unique IDs from the DataFrame and sort them\n",
    "    if stim_ids is None:\n",
    "        stim_ids = sorted(df['stimulation_id'].unique())\n",
    "    else:\n",
    "        stim_ids = sorted(stim_ids)\n",
    "    \n",
    "    # Dictionary to hold the ROI counts and lists per stimulation\n",
    "    rois_per_stim = {}\n",
    "\n",
    "    for stim_id in stim_ids:\n",
    "        # Filter the DataFrame based on the current stim_id\n",
    "        stim_df = df[df['stimulation_id'] == stim_id]\n",
    "\n",
    "        # Filter based on responsiveness if required\n",
    "        if include != 'both':\n",
    "            stim_df = stim_df[stim_df['is_responsive'] == (include == 'responsive')]\n",
    "        \n",
    "        # Get the unique ROIs for this stim_id\n",
    "        unique_rois = stim_df['roi'].unique()\n",
    "        \n",
    "        # Store the number of ROIs and the actual ROIs for this stimulation ID\n",
    "        rois_per_stim[stim_id] = {\n",
    "            'num_rois': len(unique_rois),\n",
    "            'rois': unique_rois.tolist()  # Convert the array to a list for easier readability\n",
    "        }\n",
    "    \n",
    "    return rois_per_stim\n",
    "\n",
    "# Assuming you have your data in a DataFrame called df\n",
    "rois_per_stim = count_and_list_rois_per_stim(responsiveness_df_cablam1x, include='responsive')\n",
    "\n",
    "# To view the output\n",
    "for stim_id, roi_info in rois_per_stim.items():\n",
    "    print(f\"Stimulation ID: {stim_id}\")\n",
    "    print(f\"Number of ROIs: {roi_info['num_rois']}\")\n",
    "    print(f\"ROIs: {roi_info['rois']}\")\n"
   ]
  },
  {
   "cell_type": "code",
   "execution_count": null,
   "metadata": {},
   "outputs": [],
   "source": [
    "# Assuming you have your data in a DataFrame called d\n",
    "rois_per_stim = count_and_list_rois_per_stim(responsiveness_df_gcamp8, include='responsive')\n",
    "\n",
    "# To view the output\n",
    "for stim_id, roi_info in rois_per_stim.items():\n",
    "    print(f\"Stimulation ID: {stim_id}\")\n",
    "    print(f\"Number of ROIs: {roi_info['num_rois']}\")\n",
    "    print(f\"ROIs: {roi_info['rois']}\")\n"
   ]
  },
  {
   "cell_type": "markdown",
   "metadata": {},
   "source": [
    "# Using the SensorDataPlotter class methods "
   ]
  },
  {
   "cell_type": "markdown",
   "metadata": {},
   "source": [
    "### compare all three sensors with stats for responsive neruons"
   ]
  },
  {
   "cell_type": "code",
   "execution_count": null,
   "metadata": {},
   "outputs": [],
   "source": [
    "# Sensor names for all three sensors\n",
    "sensor_names_all = ['CaBLAM05x', 'CaBLAM1x', 'GCaMP8s']\n",
    "\n",
    "# Dictionaries for sensor colors (boxplot and stripplot)\n",
    "sensor_box_colors_all = {\n",
    "    'CaBLAM05x': '#9999ff',  # Light blue\n",
    "    'CaBLAM1x': '#0000ff',   # Dark blue\n",
    "    'GCaMP8s': '#d3d3d3'     # Light grey\n",
    "}\n",
    "\n",
    "sensor_strip_colors_all = {\n",
    "    'CaBLAM05x': '#9999ff',  # Light blue\n",
    "    'CaBLAM1x': '#0000ff',   # Dark blue\n",
    "    'GCaMP8s': '#808080'     # Dark grey\n",
    "}\n",
    "\n",
    "# Initialize the SensorDataPlotter object for all three sensors\n",
    "all_sensors_plotter = SensorDataPlotter(\n",
    "    data_frames=[responsiveness_df_cablam05x, responsiveness_df_cablam1x, responsiveness_df_gcamp8],\n",
    "    sensor_names=sensor_names_all,\n",
    "    sensor_box_colors=sensor_box_colors_all,\n",
    "    sensor_strip_colors=sensor_strip_colors_all\n",
    ")\n"
   ]
  },
  {
   "cell_type": "code",
   "execution_count": null,
   "metadata": {},
   "outputs": [],
   "source": [
    "#results, summary_df = all_sensors_plotter.analyze_responsive_neurons_by_session([12, 60, 480]) # entire FOV analysis\n",
    "# Analyze data with FOV subdivision\n",
    "results_fov, summary_df_fov = all_sensors_plotter.analyze_responsive_neurons_by_fov([12, 60, 480])\n"
   ]
  },
  {
   "cell_type": "code",
   "execution_count": null,
   "metadata": {},
   "outputs": [],
   "source": [
    "summary_df_fov \n",
    "\n",
    "#save the summary_df_fov to a csv file to boxplotpercent_directory_path called percent_responsive_by_fov.csv\n",
    "summary_df_fov.to_csv(boxplotpercent_directory_path / 'percent_responsive_by_fov.csv', index=False)\n"
   ]
  },
  {
   "cell_type": "code",
   "execution_count": null,
   "metadata": {},
   "outputs": [],
   "source": [
    "# Run the Kruskal-Wallis analysis\n",
    "kw_results = all_sensors_plotter.run_kruskal_wallis_test(summary_df_fov)\n"
   ]
  },
  {
   "cell_type": "code",
   "execution_count": null,
   "metadata": {},
   "outputs": [],
   "source": [
    "# Create visualization for specific stim_id\n",
    "all_sensors_plotter.plot_fov_responsiveness_with_stats(\n",
    "    summary_df_fov,\n",
    "    kw_results,\n",
    "    stim_id=12, \n",
    "     box_width=.8, strip_size=3,\n",
    "    fig_size=(10, 6),\n",
    "    save_dir=boxplotpercent_directory_path\n",
    ")\n",
    "\n",
    "# Create visualization for specific stim_id\n",
    "all_sensors_plotter.plot_fov_responsiveness_with_stats(\n",
    "    summary_df_fov,\n",
    "    kw_results,\n",
    "    stim_id=60, \n",
    "     box_width=.8, strip_size=3,\n",
    "    fig_size=(10, 6),\n",
    "    save_dir=boxplotpercent_directory_path\n",
    ")\n",
    "\n",
    "# Create visualization for specific stim_id\n",
    "all_sensors_plotter.plot_fov_responsiveness_with_stats(\n",
    "    summary_df_fov,\n",
    "    kw_results,\n",
    "    stim_id=480, \n",
    "     box_width=.8, strip_size=3,\n",
    "    fig_size=(10, 6),\n",
    "    save_dir=boxplotpercent_directory_path\n",
    ")\n"
   ]
  },
  {
   "cell_type": "markdown",
   "metadata": {},
   "source": [
    "### compare GCaMP8 and Cablam1x"
   ]
  },
  {
   "cell_type": "code",
   "execution_count": null,
   "metadata": {},
   "outputs": [],
   "source": [
    "def save_data_to_csv(combined_df, df_column_name, selected_stim_ids, sensor_names, save_dir):\n",
    "    \"\"\"\n",
    "    Saves the filtered data as a CSV file for selected stimulation IDs.\n",
    "    :param combined_df: The combined DataFrame containing the data.\n",
    "    :param df_column_name: The name of the column to use for the value in the CSV.\n",
    "    :param selected_stim_ids: List of stimulation IDs to save. If None, save all.\n",
    "    :param sensor_names: List of sensor names used in the data.\n",
    "    :param save_dir: Directory to save the CSV file.\n",
    "    \"\"\"\n",
    "    import os\n",
    "    import pandas as pd\n",
    "\n",
    "    # Ensure df_column_name is a string\n",
    "    df_column_name = str(df_column_name)\n",
    "    \n",
    "    # Validate selected_stim_ids\n",
    "    if selected_stim_ids is not None:\n",
    "        if not isinstance(selected_stim_ids, list):\n",
    "            raise ValueError(\"The selected_stim_ids parameter must be a list of stimulation IDs.\")\n",
    "        if not all(isinstance(stim_id, int) for stim_id in selected_stim_ids):\n",
    "            raise ValueError(\"All elements in the selected_stim_ids list must be integers.\")\n",
    "    \n",
    "    # Filter the combined DataFrame for the selected stimulation IDs if provided\n",
    "    if selected_stim_ids is not None:\n",
    "        filtered_df = combined_df[combined_df['stimulation_id'].isin(selected_stim_ids)]\n",
    "    else:\n",
    "        filtered_df = combined_df.copy()\n",
    "    \n",
    "    # Raise an error if no data is available after filtering\n",
    "    if filtered_df.empty:\n",
    "        raise ValueError(\"No data available for the selected stimulation IDs.\")\n",
    "    \n",
    "    # Ensure the save directory exists\n",
    "    os.makedirs(save_dir, exist_ok=True)\n",
    "    \n",
    "    # Generate a filename that reflects the inputs\n",
    "    sensor_names_str = '_'.join(sensor_names)\n",
    "    if selected_stim_ids is not None:\n",
    "        stim_ids_str = '_'.join(map(str, selected_stim_ids))\n",
    "    else:\n",
    "        stim_ids_str = 'all'\n",
    "    filename = f'{save_dir}/{sensor_names_str}_{df_column_name}_stim_{stim_ids_str}.csv'\n",
    "    \n",
    "    # Save the DataFrame to CSV\n",
    "    filtered_df.to_csv(filename, index=False)\n",
    "    print(f\"Data saved as {filename}\")\n"
   ]
  },
  {
   "cell_type": "code",
   "execution_count": null,
   "metadata": {},
   "outputs": [],
   "source": [
    "# Sensor names\n",
    "sensor_names_cablamvsgcamp = ['CaBLAM1x', 'GCaMP8s']\n",
    "\n",
    "# Dictionaries for sensor colors (boxplot and stripplot)\n",
    "sensor_box_colors2 = {\n",
    "    'CaBLAM1x': '#0000ff',   # Dark blue\n",
    "    'GCaMP8s': '#d3d3d3'   # Light grey\n",
    "}\n",
    "\n",
    "sensor_strip_colors2 = {\n",
    "    'CaBLAM1x': '#0000ff',   # Dark blue\n",
    "    'GCaMP8s': '#808080'   # Dark grey\n",
    "}\n",
    "# Initialize the SensorDataPlotter object\n",
    "cablamvsgcamp_plotter = SensorDataPlotter(\n",
    "    data_frames=[responsiveness_df_cablam1x, responsiveness_df_gcamp8],\n",
    "    sensor_names=sensor_names_cablamvsgcamp,\n",
    "    sensor_box_colors=sensor_box_colors2,\n",
    "    sensor_strip_colors=sensor_strip_colors2\n",
    ")\n"
   ]
  },
  {
   "cell_type": "code",
   "execution_count": null,
   "metadata": {},
   "outputs": [],
   "source": [
    "cablamvsgcamp_plotter.plot_data('peak_delta_f_f_post_stim', \n",
    "                                selected_stim_ids=[12, 60, 480],\n",
    "                                strip_size=5, \n",
    "                                save_dir=boxplot_directory_path, \n",
    "                                save_dpi=300)\n",
    "\n",
    "cablamvsgcamp_plotter.plot_data('peak_snr', \n",
    "                                selected_stim_ids=[12, 60, 120, 480],\n",
    "                                strip_size=5, \n",
    "                                save_dir=boxplot_directory_path, \n",
    "                                save_dpi=300,\n",
    "                                y_range=(0, 250))\n",
    "\n",
    "#see what the columns of the datafrare in cablamvsgcamp_plotter\n",
    "print(cablamvsgcamp_plotter.data_frames[0].columns)\n"
   ]
  },
  {
   "cell_type": "code",
   "execution_count": null,
   "metadata": {},
   "outputs": [],
   "source": [
    "#show me the contents of the first three rows of post_stim_peak\n",
    "print(cablamvsgcamp_plotter.data_frames[0]['post_stim_peak'])\n",
    "\n",
    "#print the range and iterate over the dataframes and print the sensor name and the range of post_stim_peak\n",
    "for df, sensor_name in zip(cablamvsgcamp_plotter.data_frames, cablamvsgcamp_plotter.sensor_names):\n",
    "    print(f\"Sensor: {sensor_name}\")\n",
    "    print(f\"Post Stim Peak Range: {df['post_stim_peak'].min()} - {df['post_stim_peak'].max()}\")\n",
    "    print(\"-\" * 40)\n"
   ]
  },
  {
   "cell_type": "code",
   "execution_count": null,
   "metadata": {},
   "outputs": [],
   "source": [
    "# Now, save the data used in the plot to CSV\n",
    "save_data_to_csv(\n",
    "    combined_df=cablamvsgcamp_plotter.combined_df,\n",
    "    df_column_name='peak_delta_f_f_post_stim',\n",
    "    selected_stim_ids=[12, 60, 480],\n",
    "    sensor_names=cablamvsgcamp_plotter.sensor_names,\n",
    "    save_dir=boxplot_directory_path  # Replace with your desired save directory\n",
    ")\n"
   ]
  },
  {
   "cell_type": "code",
   "execution_count": null,
   "metadata": {},
   "outputs": [],
   "source": [
    "cablamvsgcamp_plotter.plot_data('time_to_peak', \n",
    "                                selected_stim_ids=[12, 60, 480],\n",
    "                                strip_size=5, \n",
    "                                save_dir=boxplot_directory_path, \n",
    "                                save_dpi=300)\n"
   ]
  },
  {
   "cell_type": "code",
   "execution_count": null,
   "metadata": {},
   "outputs": [],
   "source": [
    "cablamvsgcamp_plotter.plot_cumulative_distribution(\n",
    "    column_name='time_to_peak',\n",
    "    selected_stim_ids=[12, 60, 480],\n",
    "    save_dir=cumulative_directory_path,\n",
    "    save_dpi=300, \n",
    "    num_points=30, \n",
    "    fig_size= (3,5)# Adjust this value to change the step size\n",
    ")\n"
   ]
  },
  {
   "cell_type": "code",
   "execution_count": null,
   "metadata": {},
   "outputs": [],
   "source": [
    "### run stats test for the cablam vs gcamp8 data on the time to peak data\n",
    "ks_results = cablamvsgcamp_plotter.run_ks_test(\n",
    "    column_name='time_to_peak',\n",
    "    selected_stim_ids=[12, 60, 480]\n",
    ")\n",
    "\n",
    "ks_results\n"
   ]
  },
  {
   "cell_type": "code",
   "execution_count": null,
   "metadata": {},
   "outputs": [],
   "source": [
    "cablamvsgcamp_plotter.plot_time_series(\n",
    "    'delta_f_f_full_array',\n",
    "    selected_stim_ids=[12, 60, 480],  # List of stimulation IDs to plot\n",
    "    fig_size=(6.5, 8),  # Figure size\n",
    "    dpi=300,  # Display resolution\n",
    "    y_limits=None,  # Set custom y-axis limits (min, max)\n",
    "    save_dir=timeseries_directory_path,  # Directory where the plot will be saved\n",
    "    save_dpi=300,  # Resolution for saving the figure\n",
    "    plot_sem=True,  # Enable plotting of the SEM, \n",
    "    plot_sem_as_dotted=True)  # Plot the SEM as dotted lines instead of a shaded region)\n"
   ]
  },
  {
   "cell_type": "code",
   "execution_count": null,
   "metadata": {},
   "outputs": [],
   "source": [
    "### repeat the comparison for the cablam05x data and cablam1x data\n",
    "sensor_names_cablam05xvscablam1x = ['CaBLAM05x', 'CaBLAM1x']\n",
    "\n",
    "# Dictionaries for sensor colors (boxplot and stripplot)\n",
    "sensor_box_colors3 = {\n",
    "    'CaBLAM05x': '#9999ff',  # Light blue\n",
    "    'CaBLAM1x': '#0000ff'   # Dark blue\n",
    "}\n",
    "\n",
    "sensor_strip_colors3 = {\n",
    "    'CaBLAM05x': '#9999ff', # Light blue\n",
    "    'CaBLAM1x': '#0000ff'   # Dark blue\n",
    "}\n",
    "\n",
    "# Initialize the SensorDataPlotter object\n",
    "cablam05xvscablam1x_plotter = SensorDataPlotter(\n",
    "    data_frames=[responsiveness_df_cablam05x, responsiveness_df_cablam1x],\n",
    "    sensor_names=sensor_names_cablam05xvscablam1x,\n",
    "    sensor_box_colors=sensor_box_colors3,\n",
    "    sensor_strip_colors=sensor_strip_colors3\n",
    ")\n"
   ]
  },
  {
   "cell_type": "code",
   "execution_count": null,
   "metadata": {},
   "outputs": [],
   "source": [
    "cablam05xvscablam1x_plotter.plot_data('peak_delta_f_f_post_stim', \n",
    "                                selected_stim_ids=[12, 24, 120, 480, 1920],\n",
    "                                strip_size=5, \n",
    "                                save_dir=boxplot_directory_path, \n",
    "                                save_dpi=300)\n",
    "\n",
    "# Now, save the data used in the plot to CSV\n",
    "save_data_to_csv(\n",
    "    combined_df=cablam05xvscablam1x_plotter.combined_df,\n",
    "    df_column_name='peak_delta_f_f_post_stim',\n",
    "    selected_stim_ids=[12, 24, 120, 480, 1920],\n",
    "    sensor_names=cablam05xvscablam1x_plotter.sensor_names,\n",
    "    save_dir=boxplot_directory_path  # Replace with your desired save directory\n",
    ")\n",
    "\n",
    "\n",
    "##repeat for snr calculations \n",
    "cablam05xvscablam1x_plotter.plot_data('peak_snr', \n",
    "                                selected_stim_ids=[12, 24, 120, 480, 1920],\n",
    "                                strip_size=5, \n",
    "                                save_dir=boxplot_directory_path, \n",
    "                                save_dpi=300,\n",
    "                                y_range=(0, 75))\n",
    "# now, save the data used in the plot to CSV\n",
    "save_data_to_csv(\n",
    "    combined_df=cablam05xvscablam1x_plotter.combined_df,\n",
    "    df_column_name='peak_snr',\n",
    "    selected_stim_ids=[12, 24, 120, 480, 1920],\n",
    "    sensor_names=cablam05xvscablam1x_plotter.sensor_names,\n",
    "    save_dir=boxplot_directory_path  # Replace with your desired save directory\n",
    ")\n"
   ]
  },
  {
   "cell_type": "code",
   "execution_count": null,
   "metadata": {},
   "outputs": [],
   "source": [
    "# now compare the cablam05x and gcamp8 data as above and make a new sensor_data_plotter object\n",
    "sensor_names_cablam05xvsgcamp8 = ['CaBLAM05x', 'GCaMP8s']\n",
    "# Dictionaries for sensor colors (boxplot and stripplot)\n",
    "sensor_box_colors4 = {\n",
    "    'CaBLAM05x': '#9999ff',  # Light blue\n",
    "    'GCaMP8s': '#d3d3d3'   # Light grey\n",
    "}\n",
    "sensor_strip_colors4 = {\n",
    "    'CaBLAM05x': '#9999ff',  # Light blue\n",
    "    'GCaMP8s': '#808080'   # Dark grey\n",
    "}\n",
    "# Initialize the SensorDataPlotter object\n",
    "cablam05xvsgcamp8_plotter = SensorDataPlotter(\n",
    "    data_frames=[responsiveness_df_cablam05x, responsiveness_df_gcamp8],\n",
    "    sensor_names=sensor_names_cablam05xvsgcamp8,\n",
    "    sensor_box_colors=sensor_box_colors4,\n",
    "    sensor_strip_colors=sensor_strip_colors4\n",
    ")\n",
    "cablam05xvsgcamp8_plotter.plot_data('peak_delta_f_f_post_stim',\n",
    "                                selected_stim_ids=[12, 60, 480],\n",
    "                                strip_size=5, \n",
    "                                save_dir=boxplot_directory_path, \n",
    "                                save_dpi=300)\n",
    "# Now, save the data used in the plot to CSV\n",
    "save_data_to_csv(\n",
    "    combined_df=cablam05xvsgcamp8_plotter.combined_df,\n",
    "    df_column_name='peak_delta_f_f_post_stim',\n",
    "    selected_stim_ids=[12, 60, 480],\n",
    "    sensor_names=cablam05xvsgcamp8_plotter.sensor_names,\n",
    "    save_dir=boxplot_directory_path  # Replace with your desired save directory\n",
    ")\n",
    "cablam05xvsgcamp8_plotter.plot_data('peak_snr',\n",
    "                                selected_stim_ids=[12, 60, 120, 480],\n",
    "                                strip_size=5, \n",
    "                                save_dir=boxplot_directory_path, \n",
    "                                save_dpi=300,\n",
    "                                y_range=(0, 250))\n"
   ]
  },
  {
   "cell_type": "code",
   "execution_count": null,
   "metadata": {},
   "outputs": [],
   "source": [
    "# repeat all for all three sensors for specivcailly the peak SNR only for the 12, 60, and 480 stimulations but first create the plotter object\n",
    "sensor_names_all_sensors = ['CaBLAM05x', 'CaBLAM1x', 'GCaMP8s']\n",
    "# Dictionaries for sensor colors (boxplot and stripplot)\n",
    "sensor_box_colors_all_sensors = {\n",
    "    'CaBLAM05x': '#9999ff',  # Light blue\n",
    "    'CaBLAM1x': '#0000ff',   # Dark blue\n",
    "    'GCaMP8s': '#d3d3d3'     # Light grey\n",
    "}\n",
    "sensor_strip_colors_all_sensors = {\n",
    "    'CaBLAM05x': '#9999ff',  # Light blue\n",
    "    'CaBLAM1x': '#0000ff',   # Dark blue\n",
    "    'GCaMP8s': '#808080'     # Dark grey\n",
    "}\n",
    "# Initialize the SensorDataPlotter object for all three sensors\n",
    "all_sensors_plotter2 = SensorDataPlotter(\n",
    "    data_frames=[responsiveness_df_cablam05x, responsiveness_df_cablam1x, responsiveness_df_gcamp8],\n",
    "    sensor_names=sensor_names_all_sensors,\n",
    "    sensor_box_colors=sensor_box_colors_all_sensors,\n",
    "    sensor_strip_colors=sensor_strip_colors_all_sensors\n",
    ")\n",
    "all_sensors_plotter2.plot_data('peak_snr',\n",
    "                                selected_stim_ids=[12, 60, 480],\n",
    "                                strip_size=5, \n",
    "                                save_dir=boxplot_directory_path, \n",
    "                                save_dpi=300,\n",
    "                                y_range=(0, 250))\n"
   ]
  },
  {
   "cell_type": "code",
   "execution_count": null,
   "metadata": {},
   "outputs": [],
   "source": [
    "cablam05xvscablam1x_plotter.plot_cumulative_distribution(\n",
    "    column_name='time_to_peak',\n",
    "    selected_stim_ids=[12, 24, 120, 480, 1920],\n",
    "    save_dir=cumulative_directory_path,\n",
    "    save_dpi=300, \n",
    "    num_points=30, \n",
    "    fig_size= (3,5)\n",
    ")\n"
   ]
  },
  {
   "cell_type": "code",
   "execution_count": null,
   "metadata": {},
   "outputs": [],
   "source": [
    "### run stats test for the cablam vs gcamp8 data on the time to peak data\n",
    "ks_results_cablam05xvscablam1x_plotter = cablam05xvscablam1x_plotter.run_ks_test(\n",
    "    column_name='time_to_peak',\n",
    "    selected_stim_ids=[12, 24, 120, 480, 1920]\n",
    ")\n",
    "\n",
    "ks_results_cablam05xvscablam1x_plotter\n"
   ]
  },
  {
   "cell_type": "code",
   "execution_count": null,
   "metadata": {},
   "outputs": [],
   "source": [
    "cablam05xvscablam1x_plotter.plot_cumulative_distribution(\n",
    "    column_name='time_to_peak',\n",
    "    selected_stim_ids=[12, 24, 120, 480, 1920],\n",
    "    save_dir=cumulative_directory_path,\n",
    "    save_dpi=300, \n",
    "    num_points=30, \n",
    "    fig_size= (3,5)\n",
    ")\n"
   ]
  },
  {
   "cell_type": "code",
   "execution_count": null,
   "metadata": {},
   "outputs": [],
   "source": [
    "## for some reason, I haev to reinitlaize the plotter object to run the plot_mean_with_error function with different stim ids \n",
    "## need to fix this in the future\n",
    "\n",
    "# Initialize the SensorDataPlotter object\n",
    "cablam05xvscablam1x_plotter = SensorDataPlotter(\n",
    "    data_frames=[responsiveness_df_cablam05x, responsiveness_df_cablam1x],\n",
    "    sensor_names=sensor_names_cablam05xvscablam1x,\n",
    "    sensor_box_colors=sensor_box_colors3,\n",
    "    sensor_strip_colors=sensor_strip_colors3\n",
    ")\n",
    "\n",
    "\n",
    "cablam05xvscablam1x_plotter.plot_mean_with_error(\n",
    "    'peak_delta_f_f_post_stim',\n",
    "    error_type='SEM',\n",
    "    selected_stim_ids=[12, 24, 36, 60, 120, 240, 480, 1920],\n",
    "    save_dir=mean_error_lineplots_directory_path,\n",
    "    save_dpi=300, \n",
    "    fig_size= (4,5)\n",
    ")\n"
   ]
  },
  {
   "cell_type": "code",
   "execution_count": null,
   "metadata": {},
   "outputs": [],
   "source": [
    "cablam05xvscablam1x_plotter.plot_time_series(\n",
    "    'delta_f_f_full_array',\n",
    "    selected_stim_ids=[12, 24, 120, 480, 1920],  # List of stimulation IDs to plot\n",
    "    fig_size=(6.5, 8),  # Figure size\n",
    "    dpi=300,  # Display resolution\n",
    "    y_limits=None,  # Set custom y-axis limits (min, max)\n",
    "    save_dir=timeseries_directory_path,  # Directory where the plot will be saved\n",
    "    save_dpi=300,  # Resolution for saving the figure\n",
    "    plot_sem=True,  # Enable plotting of the SEM, \n",
    "    plot_sem_as_dotted=True  # Plot the SEM as dotted lines instead of a shaded region\n",
    ")\n"
   ]
  },
  {
   "cell_type": "code",
   "execution_count": null,
   "metadata": {},
   "outputs": [],
   "source": []
  },
  {
   "cell_type": "markdown",
   "metadata": {},
   "source": [
    "### Analyze a single sensor"
   ]
  },
  {
   "cell_type": "markdown",
   "metadata": {},
   "source": [
    ""
   ]
  },
  {
   "cell_type": "code",
   "execution_count": null,
   "metadata": {},
   "outputs": [],
   "source": [
    "# Sensor names\n",
    "sensor_names_gcamp = ['GCaMP8s']\n",
    "\n",
    "# Dictionaries for sensor colors (boxplot and stripplot)\n",
    "sensor_box_colors_gcamp = {\n",
    "    'GCaMP8s': '#d3d3d3'   # Light grey\n",
    "}\n",
    "\n",
    "sensor_strip_colors_gcamp = {\n",
    "    'GCaMP8s': '#808080'   # Dark grey\n",
    "}\n",
    "\n",
    "# Initialize the SensorDataPlotter object\n",
    "gcamp_plotter = SensorDataPlotter(\n",
    "    data_frames=[responsiveness_df_gcamp8],\n",
    "    sensor_names=sensor_names_gcamp,\n",
    "    sensor_box_colors=sensor_box_colors_gcamp,\n",
    "    sensor_strip_colors=sensor_strip_colors_gcamp\n",
    ")\n"
   ]
  },
  {
   "cell_type": "code",
   "execution_count": null,
   "metadata": {},
   "outputs": [],
   "source": [
    "gcamp_plotter.plot_mean_with_error(\n",
    "    'peak_delta_f_f_post_stim',\n",
    "    error_type='SEM',\n",
    "    selected_stim_ids=[12, 24, 120, 480],\n",
    "    save_dir=mean_error_lineplots_directory_path,\n",
    "    save_dpi=300\n",
    ")\n",
    "\n",
    "\n",
    "gcamp_plotter.plot_time_series(\n",
    "    'delta_f_f_full_array',\n",
    "    selected_stim_ids=[12, 24, 120, 480],  # List of stimulation IDs to plot\n",
    "    fig_size=(6.5, 8),  # Figure size\n",
    "    dpi=300,  # Display resolution\n",
    "    y_limits=None,  # Set custom y-axis limits (min, max)\n",
    "    save_dir=timeseries_directory_path,  # Directory where the plot will be saved\n",
    "    save_dpi=300,  # Resolution for saving the figure\n",
    "    plot_sem=True,  # Enable plotting of the SEM, \n",
    "    plot_sem_as_dotted=True  # Plot the SEM as dotted lines instead of a shaded region\n",
    ")\n",
    "\n",
    "gcamp_plotter.plot_time_series(\n",
    "    'delta_f_f_full_array',\n",
    "    selected_stim_ids=[12, 60, 480],  # List of stimulation IDs to plot\n",
    "    fig_size=(6.5, 8),  # Figure size\n",
    "    dpi=300,  # Display resolution\n",
    "    y_limits=None,  # Set custom y-axis limits (min, max)\n",
    "    save_dir=timeseries_directory_path,  # Directory where the plot will be saved\n",
    "    save_dpi=300,  # Resolution for saving the figure\n",
    "    plot_sem=True,  # Enable plotting of the SEM, \n",
    "    plot_sem_as_dotted=True  # Plot the SEM as dotted lines instead of a shaded region\n",
    ")\n"
   ]
  },
  {
   "cell_type": "markdown",
   "metadata": {},
   "source": [
    "### heatmaps "
   ]
  },
  {
   "cell_type": "markdown",
   "metadata": {},
   "source": [
    "# heatmaps"
   ]
  },
  {
   "cell_type": "markdown",
   "metadata": {},
   "source": [
    "### must re runn this as a group, need to update the udnerlyuin gmethod to handle this "
   ]
  },
  {
   "cell_type": "code",
   "execution_count": null,
   "metadata": {},
   "outputs": [],
   "source": [
    "## repeat the same process for the cablam data\n",
    "# Sensor names\n",
    "sensor_names_cablam = ['CaBLAM1x']\n",
    "\n",
    "# Dictionaries for sensor colors (boxplot and stripplot)\n",
    "sensor_box_colors_cablam = {\n",
    "    'CaBLAM1x': '#ccccff'   # Light blue\n",
    "}\n",
    "\n",
    "sensor_strip_colors_cablam = {\n",
    "    'CaBLAM1x': '#0000ff'   # Dark blue\n",
    "}\n",
    "\n",
    "# Initialize the SensorDataPlotter object\n",
    "cablam_plotter = SensorDataPlotter(\n",
    "    data_frames=[responsiveness_df_cablam1x],\n",
    "    sensor_names=sensor_names_cablam,\n",
    "    sensor_box_colors=sensor_box_colors_cablam,\n",
    "    sensor_strip_colors=sensor_strip_colors_cablam\n",
    ")\n",
    "\n",
    "cablam_plotter.plot_non_responsive_heatmap_and_pie(selected_stim_id=12, \n",
    "                                                   vmin=0, \n",
    "                                                   vmax=1,\n",
    "                                                   smooth_method=None, \n",
    "                                                   smooth_sigma=1, \n",
    "                                                   save_dir=cablam_heatmap_directory_path, \n",
    "                                                   save_dpi=300, \n",
    "                                                   interpolation='nearest')\n"
   ]
  },
  {
   "cell_type": "code",
   "execution_count": null,
   "metadata": {},
   "outputs": [],
   "source": [
    "#repeatr for the cablam05x data\n",
    "# Sensor names\n",
    "sensor_names_cablam05x = ['CaBLAM05x']\n",
    "\n",
    "# Dictionaries for sensor colors (boxplot and stripplot)\n",
    "sensor_box_colors_cablam05x = {\n",
    "    'CaBLAM05x': '#9999ff'   # Light blue\n",
    "}\n",
    "\n",
    "sensor_strip_colors_cablam05x = {\n",
    "    'CaBLAM05x': '#9999ff'   # Light blue\n",
    "}\n",
    "\n",
    "# Initialize the SensorDataPlotter object\n",
    "cablam05x_plotter = SensorDataPlotter(\n",
    "    data_frames=[responsiveness_df_cablam05x],\n",
    "    sensor_names=sensor_names_cablam05x,\n",
    "    sensor_box_colors=sensor_box_colors_cablam05x,\n",
    "    sensor_strip_colors=sensor_strip_colors_cablam05x\n",
    ")\n",
    "\n",
    "cablam05x_plotter.plot_non_responsive_heatmap_and_pie(selected_stim_id=12,\n",
    "                                                        vmin=0,\n",
    "                                                        vmax=3,\n",
    "                                                        smooth_method=None,\n",
    "                                                        smooth_sigma=1,\n",
    "                                                        save_dir=cablam_heatmap_directory_path,\n",
    "                                                        save_dpi=300,\n",
    "                                                        interpolation='nearest')\n",
    "\n",
    "cablam05x_plotter.plot_non_responsive_heatmap_and_pie(selected_stim_id=60,\n",
    "                                                        vmin=0,\n",
    "                                                        vmax=8,\n",
    "                                                        smooth_method=None,\n",
    "                                                        smooth_sigma=1,\n",
    "                                                        save_dir=cablam_heatmap_directory_path,\n",
    "                                                        save_dpi=300,\n",
    "                                                        interpolation='nearest')\n",
    "\n",
    "cablam05x_plotter.plot_non_responsive_heatmap_and_pie(selected_stim_id=480,\n",
    "                                                        vmin=0,\n",
    "                                                        vmax=8,\n",
    "                                                        smooth_method=None,\n",
    "                                                        smooth_sigma=1,\n",
    "                                                        save_dir=cablam_heatmap_directory_path,\n",
    "                                                        save_dpi=300,\n",
    "                                                        interpolation='nearest')\n"
   ]
  },
  {
   "cell_type": "code",
   "execution_count": null,
   "metadata": {},
   "outputs": [],
   "source": [
    "# repeat for the gcamp8 data\n",
    "# Sensor names\n",
    "sensor_names_gcamp = ['GCaMP8s']\n",
    "\n",
    "# Dictionaries for sensor colors (boxplot and stripplot)\n",
    "sensor_box_colors_gcamp = {\n",
    "    'GCaMP8s': '#d3d3d3'   # Light grey\n",
    "}\n",
    "\n",
    "sensor_strip_colors_gcamp = {\n",
    "    'GCaMP8s': '#808080'   # Dark grey\n",
    "}\n",
    "\n",
    "# Initialize the SensorDataPlotter object\n",
    "gcamp_plotter = SensorDataPlotter(\n",
    "    data_frames=[responsiveness_df_gcamp8],\n",
    "    sensor_names=sensor_names_gcamp,\n",
    "    sensor_box_colors=sensor_box_colors_gcamp,\n",
    "    sensor_strip_colors=sensor_strip_colors_gcamp\n",
    ")\n",
    "\n",
    "\n",
    "#repeat for gcamp8 data\n",
    "gcamp_plotter.plot_non_responsive_heatmap_and_pie(selected_stim_id=12, \n",
    "                                                  vmin=0, \n",
    "                                                  vmax=0.1,\n",
    "                                                  smooth_method=None, \n",
    "                                                  smooth_sigma=1, \n",
    "                                                  save_dir=gcamp_heatmap_directory_path, \n",
    "                                                  save_dpi=300, \n",
    "                                                  interpolation='nearest')\n",
    "\n",
    "#repeat for gcamp8 data\n",
    "gcamp_plotter.plot_non_responsive_heatmap_and_pie(selected_stim_id=60, \n",
    "                                                  vmin=0, \n",
    "                                                  vmax=None,\n",
    "                                                  smooth_method=None, \n",
    "                                                  smooth_sigma=1, \n",
    "                                                  save_dir=gcamp_heatmap_directory_path, \n",
    "                                                  save_dpi=300, \n",
    "                                                  interpolation='nearest')\n",
    "\n",
    "\n",
    "#repeat for gcamp8 data\n",
    "gcamp_plotter.plot_non_responsive_heatmap_and_pie(selected_stim_id=480, \n",
    "                                                  vmin=0, \n",
    "                                                  vmax=None,\n",
    "                                                  smooth_method=None, \n",
    "                                                  smooth_sigma=1, \n",
    "                                                  save_dir=gcamp_heatmap_directory_path, \n",
    "                                                  save_dpi=300, \n",
    "                                                  interpolation='nearest')\n"
   ]
  },
  {
   "cell_type": "code",
   "execution_count": null,
   "metadata": {},
   "outputs": [],
   "source": []
  }
 ],
 "metadata": {
  "kernelspec": {
   "display_name": "biolumi_calcium_imaging",
   "language": "python",
   "name": "python3"
  },
  "language_info": {
   "codemirror_mode": {
    "name": "ipython",
    "version": 3
   },
   "file_extension": ".py",
   "mimetype": "text/x-python",
   "name": "python",
   "nbconvert_exporter": "python",
   "pygments_lexer": "ipython3",
   "version": "3.8.18"
  }
 },
 "nbformat": 4,
 "nbformat_minor": 2
}